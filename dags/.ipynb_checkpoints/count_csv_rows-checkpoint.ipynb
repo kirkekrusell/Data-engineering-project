{
 "cells": [
  {
   "cell_type": "code",
   "execution_count": null,
   "id": "8ad4f0fd",
   "metadata": {},
   "outputs": [],
   "source": [
    "from airflow import DAG\n",
    "from airflow.operators.python import PythonOperator\n",
    "from datetime import datetime\n",
    "import pandas as pd\n",
    "import os\n",
    "\n",
    "def count_rows(file_name):\n",
    "    file_path = f\"/opt/airflow/data/{file_name}\"\n",
    "    if os.path.exists(file_path):\n",
    "        df = pd.read_csv(file_path)\n",
    "        print(f\"{file_name} sisaldab {len(df)} rida.\")\n",
    "    else:\n",
    "        print(f\"Faili {file_name} ei leitud!\")\n",
    "\n",
    "with DAG(\n",
    "    dag_id=\"count_csv_rows\",\n",
    "    start_date=datetime(2023, 1, 1),\n",
    "    schedule_interval=None,\n",
    "    catchup=False,\n",
    "    tags=[\"csv\", \"test\"]\n",
    ") as dag:\n",
    "\n",
    "    count_mtr = PythonOperator(\n",
    "        task_id=\"count_mtr_rows\",\n",
    "        python_callable=lambda: count_rows(\"MTR.csv\")\n",
    "    )\n",
    "\n",
    "    count_ettevotja = PythonOperator(\n",
    "        task_id=\"count_ettevotja_rows\",\n",
    "        python_callable=lambda: count_rows(\"ettevotja_rekvisiidid__lihtandmed.csv\")\n",
    "    )\n",
    "\n",
    "    count_mtr >> count_ettevotja\n"
   ]
  }
 ],
 "metadata": {
  "language_info": {
   "name": "python"
  }
 },
 "nbformat": 4,
 "nbformat_minor": 5
}
